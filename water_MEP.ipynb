{
 "cells": [
  {
   "cell_type": "code",
   "execution_count": null,
   "metadata": {},
   "outputs": [],
   "source": [
    "from pyscf import __config__\n",
    "# Default of 3.0 is too small for 6-31G*\n",
    "# Note, this *must* be run before importing cubge\n",
    "setattr(__config__, 'cubegen_box_margin', 4.0)\n",
    "\n",
    "from pyscf import dft\n",
    "from pyscf.geomopt.geometric_solver import optimize\n",
    "from pyscf.tools import cubegen\n",
    "\n",
    "import nglview as nv\n",
    "from utils import *"
   ]
  },
  {
   "cell_type": "code",
   "execution_count": null,
   "metadata": {},
   "outputs": [],
   "source": [
    "mol = SMILES_to_Mole(\"O\")"
   ]
  },
  {
   "cell_type": "code",
   "execution_count": null,
   "metadata": {},
   "outputs": [],
   "source": [
    "# https://pyscf.org/user/gto.html\n",
    "mol.basis=\"6-31G*\"\n",
    "mol.verbose = 0\n",
    "mol.build()"
   ]
  },
  {
   "cell_type": "code",
   "execution_count": null,
   "metadata": {},
   "outputs": [],
   "source": [
    "# https://pyscf.org/user/dft.html\n",
    "method = dft.RKS(mol)\n",
    "method.xc = 'b3lypg'\n",
    "method.scf()"
   ]
  },
  {
   "cell_type": "code",
   "execution_count": null,
   "metadata": {},
   "outputs": [],
   "source": [
    "# https://pyscf.org/user/geomopt.html\n",
    "opt_mol = optimize(method)"
   ]
  },
  {
   "cell_type": "code",
   "execution_count": null,
   "metadata": {},
   "outputs": [],
   "source": [
    "method = dft.RKS(opt_mol)\n",
    "method.xc = 'b3lypg'\n",
    "method.scf()"
   ]
  },
  {
   "cell_type": "code",
   "execution_count": null,
   "metadata": {},
   "outputs": [],
   "source": [
    "_ = cubegen.density(opt_mol, 'water_den.cube', method.make_rdm1(), resolution=(1/6))\n",
    "_ = cubegen.mep(opt_mol, 'water_pot.cube', method.make_rdm1(), resolution=(1/6))"
   ]
  },
  {
   "cell_type": "code",
   "execution_count": null,
   "metadata": {},
   "outputs": [],
   "source": [
    "view = nv.NGLWidget()\n",
    "view.stage.set_parameters(**{\n",
    "    \"clipNear\": 0, \"clipFar\": 100, \"clipDist\": 1,\n",
    "})\n",
    "\n",
    "c0 = view.add_component('water_den.cube')\n",
    "c1 = view.add_component('water_pot.cube')\n",
    "\n",
    "c0.add_surface(color_scheme='volume', \n",
    "       isolevelType=\"value\",\n",
    "       isolevel = 0.002,\n",
    "       color_volume=c1,\n",
    "       colorScale='rwb',\n",
    "       colorDomain=[ -0.05, 0.05 ],      \n",
    "       opacity=0.8\n",
    ")\n",
    "\n",
    "view"
   ]
  },
  {
   "cell_type": "code",
   "execution_count": null,
   "metadata": {},
   "outputs": [],
   "source": []
  }
 ],
 "metadata": {
  "kernelspec": {
   "display_name": "Python (pyscf_mep)",
   "language": "python",
   "name": "pyscf_mep"
  },
  "language_info": {
   "codemirror_mode": {
    "name": "ipython",
    "version": 3
   },
   "file_extension": ".py",
   "mimetype": "text/x-python",
   "name": "python",
   "nbconvert_exporter": "python",
   "pygments_lexer": "ipython3",
   "version": "3.12.3"
  }
 },
 "nbformat": 4,
 "nbformat_minor": 4
}
