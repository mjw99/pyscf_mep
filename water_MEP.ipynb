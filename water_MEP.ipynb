{
 "cells": [
  {
   "cell_type": "code",
   "execution_count": 1,
   "metadata": {},
   "outputs": [
    {
     "data": {
      "application/vnd.jupyter.widget-view+json": {
       "model_id": "bf94f07662b746e6962c58ea9d30e70a",
       "version_major": 2,
       "version_minor": 0
      },
      "text/plain": []
     },
     "metadata": {},
     "output_type": "display_data"
    }
   ],
   "source": [
    "from pyscf import __config__\n",
    "# Default of 3.0 is too small for 6-31G*\n",
    "# Note, this *must* be run before importing cubge\n",
    "setattr(__config__, 'cubegen_box_margin', 4.0)\n",
    "\n",
    "from pyscf import gto\n",
    "from pyscf import dft\n",
    "from pyscf.geomopt import berny_solver\n",
    "from pyscf.tools import cubegen\n",
    "\n",
    "import nglview as nv"
   ]
  },
  {
   "cell_type": "code",
   "execution_count": 2,
   "metadata": {},
   "outputs": [],
   "source": [
    "h2o = gto.M(atom='      O 0.00000000,  0.000000,  0.119748;\\\n",
    "                        H 0.00000000,  0.761561, -0.478993;\\\n",
    "                        H 0.00000000, -0.761561, -0.478993',\n",
    "            basis='6-31G*')\n"
   ]
  },
  {
   "cell_type": "code",
   "execution_count": 3,
   "metadata": {},
   "outputs": [],
   "source": [
    "h2o.build()\n",
    "h2o.verbose = 1"
   ]
  },
  {
   "cell_type": "code",
   "execution_count": 4,
   "metadata": {},
   "outputs": [
    {
     "data": {
      "text/plain": [
       "-76.40702282910978"
      ]
     },
     "execution_count": 4,
     "metadata": {},
     "output_type": "execute_result"
    }
   ],
   "source": [
    "method = dft.RKS(h2o)\n",
    "method.xc = 'b3lypg'\n",
    "method.scf()\n"
   ]
  },
  {
   "cell_type": "code",
   "execution_count": 5,
   "metadata": {},
   "outputs": [],
   "source": [
    "opt_mol = berny_solver.optimize(method)\n"
   ]
  },
  {
   "cell_type": "code",
   "execution_count": 6,
   "metadata": {},
   "outputs": [
    {
     "data": {
      "text/plain": [
       "-76.4070240148536"
      ]
     },
     "execution_count": 6,
     "metadata": {},
     "output_type": "execute_result"
    }
   ],
   "source": [
    "method = dft.RKS(opt_mol)\n",
    "method.xc = 'b3lypg'\n",
    "method.scf()\n"
   ]
  },
  {
   "cell_type": "code",
   "execution_count": 7,
   "metadata": {},
   "outputs": [],
   "source": [
    "null = cubegen.density(opt_mol, 'water_den.cube',\n",
    "                       method.make_rdm1(), resolution=(1/6))\n",
    "null = cubegen.mep(opt_mol, 'water_pot.cube',\n",
    "                   method.make_rdm1(), resolution=(1/6))\n"
   ]
  },
  {
   "cell_type": "code",
   "execution_count": 8,
   "metadata": {},
   "outputs": [
    {
     "data": {
      "application/vnd.jupyter.widget-view+json": {
       "model_id": "a705a2248e564ddebcdd31ad767da604",
       "version_major": 2,
       "version_minor": 0
      },
      "text/plain": [
       "NGLWidget()"
      ]
     },
     "metadata": {},
     "output_type": "display_data"
    }
   ],
   "source": [
    "view = nv.NGLWidget()\n",
    "view.stage.set_parameters(**{\n",
    "    \"clipNear\": 0, \"clipFar\": 100, \"clipDist\": 1,\n",
    "})\n",
    "\n",
    "c0 = view.add_component('water_den.cube')\n",
    "c1 = view.add_component('water_pot.cube')\n",
    "\n",
    "c0.add_surface(color_scheme='volume',\n",
    "               isolevelType=\"value\",\n",
    "               isolevel=0.002,\n",
    "               color_volume=c1,\n",
    "               colorScale='rwb',\n",
    "               colorDomain=[-0.05, 0.05],\n",
    "               opacity=0.8\n",
    "               )\n",
    "\n",
    "view\n"
   ]
  },
  {
   "cell_type": "code",
   "execution_count": null,
   "metadata": {},
   "outputs": [],
   "source": []
  }
 ],
 "metadata": {
  "kernelspec": {
   "display_name": "Python (pyscf_mep)",
   "language": "python",
   "name": "pyscf_mep"
  },
  "language_info": {
   "codemirror_mode": {
    "name": "ipython",
    "version": 3
   },
   "file_extension": ".py",
   "mimetype": "text/x-python",
   "name": "python",
   "nbconvert_exporter": "python",
   "pygments_lexer": "ipython3",
   "version": "3.8.13"
  }
 },
 "nbformat": 4,
 "nbformat_minor": 2
}
