{
 "cells": [
  {
   "cell_type": "code",
   "execution_count": 1,
   "metadata": {},
   "outputs": [
    {
     "data": {
      "application/vnd.jupyter.widget-view+json": {
       "model_id": "a896379a214246dfb7608456c6f9ee96",
       "version_major": 2,
       "version_minor": 0
      },
      "text/plain": []
     },
     "metadata": {},
     "output_type": "display_data"
    }
   ],
   "source": [
    "from pyscf import __config__\n",
    "# Default of 3.0 is too small for 6-31G*\n",
    "# Note, this *must* be run before importing cubge\n",
    "setattr(__config__, 'cubegen_box_margin', 4.0)\n",
    "\n",
    "from pyscf import dft\n",
    "from pyscf.geomopt import berny_solver\n",
    "from pyscf.tools import cubegen\n",
    "\n",
    "import nglview as nv\n",
    "from utils import *"
   ]
  },
  {
   "cell_type": "code",
   "execution_count": 2,
   "metadata": {},
   "outputs": [],
   "source": [
    "mol = SMILES_to_Mole(\"O\")"
   ]
  },
  {
   "cell_type": "code",
   "execution_count": 3,
   "metadata": {},
   "outputs": [
    {
     "data": {
      "text/plain": [
       "<pyscf.gto.mole.Mole at 0x7f1b7a785100>"
      ]
     },
     "execution_count": 3,
     "metadata": {},
     "output_type": "execute_result"
    }
   ],
   "source": [
    "# https://pyscf.org/user/gto.html\n",
    "mol.basis=\"6-31G*\"\n",
    "mol.verbose = 0\n",
    "mol.build()"
   ]
  },
  {
   "cell_type": "code",
   "execution_count": 4,
   "metadata": {},
   "outputs": [
    {
     "data": {
      "text/plain": [
       "-76.40702334862985"
      ]
     },
     "execution_count": 4,
     "metadata": {},
     "output_type": "execute_result"
    }
   ],
   "source": [
    "# https://pyscf.org/user/dft.html\n",
    "method = dft.RKS(mol)\n",
    "method.xc = 'b3lypg'\n",
    "method.scf()"
   ]
  },
  {
   "cell_type": "code",
   "execution_count": 5,
   "metadata": {},
   "outputs": [],
   "source": [
    "# https://pyscf.org/user/geomopt.html\n",
    "opt_mol = berny_solver.optimize(method)"
   ]
  },
  {
   "cell_type": "code",
   "execution_count": 6,
   "metadata": {},
   "outputs": [
    {
     "data": {
      "text/plain": [
       "-76.40702397201403"
      ]
     },
     "execution_count": 6,
     "metadata": {},
     "output_type": "execute_result"
    }
   ],
   "source": [
    "method = dft.RKS(opt_mol)\n",
    "method.xc = 'b3lypg'\n",
    "method.scf()"
   ]
  },
  {
   "cell_type": "code",
   "execution_count": 7,
   "metadata": {},
   "outputs": [],
   "source": [
    "_ = cubegen.density(opt_mol, 'water_den.cube', method.make_rdm1(), resolution=(1/6))\n",
    "_ = cubegen.mep(opt_mol, 'water_pot.cube', method.make_rdm1(), resolution=(1/6))"
   ]
  },
  {
   "cell_type": "code",
   "execution_count": 8,
   "metadata": {},
   "outputs": [
    {
     "data": {
      "application/vnd.jupyter.widget-view+json": {
       "model_id": "e93c583fe1aa4ac4ba11a9a682315cd7",
       "version_major": 2,
       "version_minor": 0
      },
      "text/plain": [
       "NGLWidget()"
      ]
     },
     "metadata": {},
     "output_type": "display_data"
    }
   ],
   "source": [
    "view = nv.NGLWidget()\n",
    "view.stage.set_parameters(**{\n",
    "    \"clipNear\": 0, \"clipFar\": 100, \"clipDist\": 1,\n",
    "})\n",
    "\n",
    "c0 = view.add_component('water_den.cube')\n",
    "c1 = view.add_component('water_pot.cube')\n",
    "\n",
    "c0.add_surface(color_scheme='volume', \n",
    "       isolevelType=\"value\",\n",
    "       isolevel = 0.002,\n",
    "       color_volume=c1,\n",
    "       colorScale='rwb',\n",
    "       colorDomain=[ -0.05, 0.05 ],      \n",
    "       opacity=0.8\n",
    ")\n",
    "\n",
    "view"
   ]
  },
  {
   "cell_type": "code",
   "execution_count": null,
   "metadata": {},
   "outputs": [],
   "source": []
  }
 ],
 "metadata": {
  "kernelspec": {
   "display_name": "Python (pyscf_mep)",
   "language": "python",
   "name": "pyscf_mep"
  },
  "language_info": {
   "codemirror_mode": {
    "name": "ipython",
    "version": 3
   },
   "file_extension": ".py",
   "mimetype": "text/x-python",
   "name": "python",
   "nbconvert_exporter": "python",
   "pygments_lexer": "ipython3",
   "version": "3.8.13"
  }
 },
 "nbformat": 4,
 "nbformat_minor": 2
}
